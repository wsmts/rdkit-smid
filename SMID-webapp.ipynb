{
 "cells": [
  {
   "cell_type": "markdown",
   "metadata": {},
   "source": [
    "# SMID calculation\n",
    "\n",
    "The smallest maximum intramolecular distance (SMID) is as a new and useful molecular size descriptor.  is meant to reflect how small a conformation a molecule can adopt within a low-energy window and can be conceptualized as an effective diameter. It is shown that for several proprietary and public PXR binding and activation data sets, SMID is correlated with the likelihood of PXR activation and CYP3A4 upregulation.\n",
    "\n",
    "The histogram is showing the fraction of molecules within each SMID range that display low, medium, or high levels of PXR activation relative to the rifampicin control. The PXR activation assay displayed a distinct preference for molecules with SMID values between 9 and 14 Å, with a steadily decreasing percentage of molecules strongly activating PXR above 11 Å.\n",
    "\n",
    "![Image](histogram.jpeg)\n",
    "\n",
    "Ref: [J. Chem. Inf. Model. 2020, 60, 4, 2091–2099](https://doi.org/10.1021/acs.jcim.9b00692)\n",
    "\n",
    "based on [smid.py / github](https://github.com/BrianGoldman/SMID/blob/master/smid.py)\n",
    "\n",
    "---"
   ]
  },
  {
   "cell_type": "code",
   "execution_count": 1,
   "metadata": {},
   "outputs": [],
   "source": [
    "import io\n",
    "import math\n",
    "import tempfile\n",
    "from pathlib import Path\n",
    "from itertools import combinations\n",
    "from rdkit.Chem import AllChem\n",
    "from rdkit.Chem import Draw\n",
    "from rdkit.Chem.Draw import IPythonConsole, rdMolDraw2D, SimilarityMaps\n",
    "from ipywidgets import interact_manual, FileUpload, Output\n",
    "from IPython.display import display, display_png, FileLink, Markdown\n",
    "from tqdm.notebook import tqdm"
   ]
  },
  {
   "cell_type": "code",
   "execution_count": 2,
   "metadata": {},
   "outputs": [],
   "source": [
    "def atmDist(atmPair):\n",
    "    '''\n",
    "    Calculates the *squared* distance in space between 2 coordinates\n",
    "    '''\n",
    "    (c1, c2) = atmPair\n",
    "    return math.pow(c1[0] - c2[0], 2) + math.pow(c1[1] - c2[1], 2) + math.pow(c1[2] - c2[2], 2)\n",
    "\n",
    "def max_intram_dist(mol):\n",
    "    '''\n",
    "    Returns the maximum *squared* distance within a molecule\n",
    "    '''\n",
    "    comb = combinations(mol.GetPositions(),2)\n",
    "    return max([atmDist(pair) for pair in comb])\n",
    "\n",
    "def calculate_smid(mol):\n",
    "    try:\n",
    "        # Prepare molecule\n",
    "        mol = AllChem.AddHs(mol)           \n",
    "          \n",
    "        # Generate conformations and minimizes the geometry\n",
    "        if AllChem.CalcNumRotatableBonds(mol) > 10:\n",
    "            num_conf = 1000\n",
    "        else:\n",
    "            num_conf = 200\n",
    "        \n",
    "        # cids -> conformer id's\n",
    "        cids = AllChem.EmbedMultipleConfs(mol, num_conf, numThreads=0, pruneRmsThresh=1.0, \\\n",
    "                                          useExpTorsionAnglePrefs=True, useBasicKnowledge=True, \\\n",
    "                                          enforceChirality=False)\n",
    "        \n",
    "        # optimize/minimize conformers, result is a 2 tuple containing convergence (0 or 1) and energy\n",
    "        result = AllChem.MMFFOptimizeMoleculeConfs(mol,numThreads=0, mmffVariant='MMFF94s',)\n",
    "        \n",
    "        # filter based on convergence and energy window (5 kcal)\n",
    "        min_energy = min([energy for (conv, energy) in result if conv])\n",
    "        energy_filter = [id for id, (conv, energy) in enumerate(result) if conv and (energy < (min_energy + 5))]\n",
    "\n",
    "        # calculate max_intram_dist for each conformer\n",
    "        mid_list = []\n",
    "        for cid in energy_filter:\n",
    "            mid_list.append(max_intram_dist(mol.GetConformer(cid)))\n",
    "\n",
    "        # return SMID\n",
    "        return math.sqrt(min(mid_list))\n",
    "   \n",
    "    except:\n",
    "        return None"
   ]
  },
  {
   "cell_type": "markdown",
   "metadata": {},
   "source": [
    "## Process SD file\n",
    "\n",
    "- Click the Upload button to select an SD file\n",
    "- Click *Run Interact* to start the calculation.\n",
    "\n",
    "A new SD file will be generated with the calculated SMID for each structure in the field *CIM_SMID*"
   ]
  },
  {
   "cell_type": "code",
   "execution_count": 3,
   "metadata": {},
   "outputs": [
    {
     "data": {
      "application/vnd.jupyter.widget-view+json": {
       "model_id": "615b1892a0674fc2924d5c723cc026e1",
       "version_major": 2,
       "version_minor": 0
      },
      "text/plain": [
       "interactive(children=(FileUpload(value={}, accept='.sdf', description='Upload'), Button(description='Run Inter…"
      ]
     },
     "metadata": {},
     "output_type": "display_data"
    }
   ],
   "source": [
    "@interact_manual(upload = FileUpload(accept='.sdf', multiple=False))\n",
    "def process_sdf(upload):\n",
    "    out = Path(tempfile.NamedTemporaryFile(prefix='SMID-', suffix='.sdf',delete=False, dir='.').name)\n",
    "    \n",
    "    content = list(upload.values())[0]['content']\n",
    "    suppl = AllChem.ForwardSDMolSupplier(io.BytesIO(content))\n",
    "    writer = AllChem.SDWriter(out.name)\n",
    "\n",
    "    molecules = [mol for mol in suppl]\n",
    "\n",
    "    for mol in tqdm(molecules):    \n",
    "        smid = calculate_smid(mol)\n",
    "        mol.SetProp('CIM_SMID',str(round(smid,2)))\n",
    "        writer.write(mol)\n",
    "        writer.flush()    \n",
    "\n",
    "    writer.close()\n",
    "    display(Markdown('''## Done\n",
    "    Download the results with the link below\n",
    "                     '''))\n",
    "    display(FileLink(out.name))"
   ]
  },
  {
   "cell_type": "markdown",
   "metadata": {},
   "source": [
    "## H-Scan\n",
    "\n",
    "This script will systematically replaces each nonequivalent hydrogen atom with a phenyl group, recalculate the SMID, and records the change in SMID at each position. It will return a map of SMID changes projected onto the original structure.\n",
    "\n",
    "- Paste a SMILES string in the text box\n",
    "- Click *Run Interact* to start the H-Scan.\n"
   ]
  },
  {
   "cell_type": "code",
   "execution_count": 4,
   "metadata": {},
   "outputs": [
    {
     "data": {
      "application/vnd.jupyter.widget-view+json": {
       "model_id": "1f202d0b9f71462ea22b710d088f3d83",
       "version_major": 2,
       "version_minor": 0
      },
      "text/plain": [
       "interactive(children=(Text(value='', description='smiles'), Button(description='Run Interact', style=ButtonSty…"
      ]
     },
     "metadata": {},
     "output_type": "display_data"
    }
   ],
   "source": [
    "@interact_manual(smiles='')\n",
    "def hScan(smiles):\n",
    "    m = AllChem.MolFromSmiles(smiles)\n",
    "    AllChem.Compute2DCoords(m)\n",
    "    seenSet = set()\n",
    "\n",
    "    ref_smid = calculate_smid(m)\n",
    "\n",
    "    m = AllChem.AddHs(m)\n",
    "\n",
    "    hAtms = [atom for atom in m.GetAtoms() if atom.GetSymbol() == 'H']\n",
    "\n",
    "    for a in tqdm(hAtms):\n",
    "        benz = AllChem.MolFromSmiles(\"c1c[c:1]ccc1\")\n",
    "        merged = AllChem.CombineMols(m, benz)\n",
    "        edit = AllChem.EditableMol(merged)\n",
    "\n",
    "        connected_to_H = a.GetNeighbors()  \n",
    "        atoms_to_bond = [_.GetIdx() for _ in merged.GetAtoms() if _.GetAtomMapNum() == 1 or _.GetIdx() == connected_to_H[0].GetIdx()]\n",
    "\n",
    "        edit.AddBond(atoms_to_bond[0], atoms_to_bond[1], order=AllChem.rdchem.BondType.SINGLE)\n",
    "        edit.RemoveBond(connected_to_H[0].GetIdx(), a.GetIdx())\n",
    "        edit.RemoveAtom(a.GetIdx())\n",
    "\n",
    "        smi = AllChem.MolToSmiles(edit.GetMol())\n",
    "\n",
    "        if smi not in seenSet:\n",
    "            seenSet.add(smi)\n",
    "            smid_diff = calculate_smid(AllChem.MolFromSmiles(smi)) - ref_smid    \n",
    "            connected_to_H[0].SetProp('atomNote', f'{smid_diff:.1f}')\n",
    "\n",
    "    print(f'SMID: {ref_smid:.1f}')\n",
    "    \n",
    "    m = AllChem.RemoveHs(m)\n",
    "\n",
    "    contribs = [float(m.GetAtomWithIdx(i).GetProp('atomNote')) if m.GetAtomWithIdx(i).HasProp('atomNote') else 0 for i in range(m.GetNumAtoms())]\n",
    "    d = Draw.MolDraw2DCairo(400, 400)\n",
    "    d.SetFontSize(6)\n",
    "    SimilarityMaps.GetSimilarityMapFromWeights(m, contribs, contourLines=6, draw2d=d)\n",
    "    d.FinishDrawing()\n",
    "    display_png(d.GetDrawingText(), raw=True)"
   ]
  },
  {
   "cell_type": "code",
   "execution_count": null,
   "metadata": {},
   "outputs": [],
   "source": []
  }
 ],
 "metadata": {
  "kernelspec": {
   "display_name": "Python 3",
   "language": "python",
   "name": "python3"
  },
  "language_info": {
   "codemirror_mode": {
    "name": "ipython",
    "version": 3
   },
   "file_extension": ".py",
   "mimetype": "text/x-python",
   "name": "python",
   "nbconvert_exporter": "python",
   "pygments_lexer": "ipython3",
   "version": "3.7.6"
  }
 },
 "nbformat": 4,
 "nbformat_minor": 4
}